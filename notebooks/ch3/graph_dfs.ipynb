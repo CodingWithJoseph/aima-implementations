{
 "cells": [
  {
   "cell_type": "markdown",
   "metadata": {
    "graffitiCellId": "id_m8owu67"
   },
   "source": [
    "# Graph Depth First Search\n",
    "In this exercise, you'll see how to do a depth first search on a graph. To start, let's create a graph class in Python."
   ]
  },
  {
   "cell_type": "code",
   "metadata": {
    "graffitiCellId": "id_ahrjg5m",
    "ExecuteTime": {
     "end_time": "2025-09-15T03:14:54.991648Z",
     "start_time": "2025-09-15T03:14:54.987647Z"
    }
   },
   "source": [
    "class GraphNode(object):\n",
    "    def __init__(self, val):\n",
    "        self.value = val\n",
    "        self.children = []\n",
    "        \n",
    "    def add_child(self,new_node):\n",
    "        self.children.append(new_node)\n",
    "    \n",
    "    def remove_child(self,del_node):\n",
    "        if del_node in self.children:\n",
    "            self.children.remove(del_node)\n",
    "\n",
    "class Graph(object):\n",
    "    def __init__(self,node_list):\n",
    "        self.nodes = node_list\n",
    "        \n",
    "    def add_edge(self,node1,node2):\n",
    "        if(node1 in self.nodes and node2 in self.nodes):\n",
    "            node1.add_child(node2)\n",
    "            node2.add_child(node1)\n",
    "            \n",
    "    def remove_edge(self,node1,node2):\n",
    "        if(node1 in self.nodes and node2 in self.nodes):\n",
    "            node1.remove_child(node2)\n",
    "            node2.remove_child(node1)"
   ],
   "outputs": [],
   "execution_count": 3
  },
  {
   "cell_type": "markdown",
   "metadata": {
    "graffitiCellId": "id_1gmwlh4"
   },
   "source": [
    "Now let's create the graph."
   ]
  },
  {
   "cell_type": "code",
   "metadata": {
    "graffitiCellId": "id_7t1mjv6",
    "ExecuteTime": {
     "end_time": "2025-09-15T03:14:55.005578Z",
     "start_time": "2025-09-15T03:14:55.002370Z"
    }
   },
   "source": [
    "nodeG = GraphNode('G')\n",
    "nodeR = GraphNode('R')\n",
    "nodeA = GraphNode('A')\n",
    "nodeP = GraphNode('P')\n",
    "nodeH = GraphNode('H')\n",
    "nodeS = GraphNode('S')\n",
    "\n",
    "graph1 = Graph([nodeS,nodeH,nodeG,nodeP,nodeR,nodeA] ) \n",
    "graph1.add_edge(nodeG,nodeR)\n",
    "graph1.add_edge(nodeA,nodeR)\n",
    "graph1.add_edge(nodeA,nodeG)\n",
    "graph1.add_edge(nodeR,nodeP)\n",
    "graph1.add_edge(nodeH,nodeG)\n",
    "graph1.add_edge(nodeH,nodeP)\n",
    "graph1.add_edge(nodeS,nodeR)"
   ],
   "outputs": [],
   "execution_count": 4
  },
  {
   "cell_type": "markdown",
   "metadata": {
    "graffitiCellId": "id_8vfpmgw"
   },
   "source": [
    "## Implement DFS\n",
    "Using what you know about DFS for trees, apply this to graphs. Implement the `dfs_search` to return the `GraphNode` with the value `search_value` starting at the `root_node`."
   ]
  },
  {
   "cell_type": "code",
   "metadata": {
    "graffitiCellId": "id_k6nhmo1",
    "ExecuteTime": {
     "end_time": "2025-09-15T03:14:55.019506Z",
     "start_time": "2025-09-15T03:14:55.016172Z"
    }
   },
   "source": [
    "def dfs_search(root_node, search_value):\n",
    "    frontier = [root_node]\n",
    "    explored = []\n",
    "\n",
    "    while frontier:\n",
    "        state = frontier.pop()\n",
    "        explored.append(state)\n",
    "\n",
    "        if state.value == search_value:\n",
    "            return state\n",
    "\n",
    "        for child in state.children:\n",
    "            if child not in explored:\n",
    "                frontier.append(child)\n",
    "    return None"
   ],
   "outputs": [],
   "execution_count": 5
  },
  {
   "cell_type": "markdown",
   "metadata": {
    "graffitiCellId": "id_0aafts6"
   },
   "source": [
    "### Tests"
   ]
  },
  {
   "cell_type": "code",
   "metadata": {
    "graffitiCellId": "id_3k4dgr7",
    "ExecuteTime": {
     "end_time": "2025-09-15T03:14:55.031657Z",
     "start_time": "2025-09-15T03:14:55.028692Z"
    }
   },
   "source": [
    "assert nodeA == dfs_search(nodeS, 'A')\n",
    "assert nodeS == dfs_search(nodeP, 'S')\n",
    "assert nodeR == dfs_search(nodeH, 'R')"
   ],
   "outputs": [],
   "execution_count": 6
  },
  {
   "cell_type": "code",
   "metadata": {
    "graffitiCellId": "id_keclu7e",
    "ExecuteTime": {
     "end_time": "2025-09-15T03:14:55.043388Z",
     "start_time": "2025-09-15T03:14:55.040174Z"
    }
   },
   "source": [
    "print(nodeA)"
   ],
   "outputs": [
    {
     "name": "stdout",
     "output_type": "stream",
     "text": [
      "<__main__.GraphNode object at 0x000002B31D8BF1A0>\n"
     ]
    }
   ],
   "execution_count": 7
  },
  {
   "cell_type": "code",
   "metadata": {
    "graffitiCellId": "id_gii4o63",
    "ExecuteTime": {
     "end_time": "2025-09-15T03:14:55.065290Z",
     "start_time": "2025-09-15T03:14:55.062288Z"
    }
   },
   "source": [
    "print(nodeA == dfs_search(nodeS, 'A'))"
   ],
   "outputs": [
    {
     "name": "stdout",
     "output_type": "stream",
     "text": [
      "True\n"
     ]
    }
   ],
   "execution_count": 8
  }
 ],
 "metadata": {
  "graffiti": {
   "firstAuthorId": "10694620118",
   "id": "id_9f31yr7",
   "language": "EN"
  },
  "kernelspec": {
   "display_name": "Python 3 (ipykernel)",
   "language": "python",
   "name": "python3"
  },
  "language_info": {
   "codemirror_mode": {
    "name": "ipython",
    "version": 3
   },
   "file_extension": ".py",
   "mimetype": "text/x-python",
   "name": "python",
   "nbconvert_exporter": "python",
   "pygments_lexer": "ipython3",
   "version": "3.8.12"
  }
 },
 "nbformat": 4,
 "nbformat_minor": 2
}
