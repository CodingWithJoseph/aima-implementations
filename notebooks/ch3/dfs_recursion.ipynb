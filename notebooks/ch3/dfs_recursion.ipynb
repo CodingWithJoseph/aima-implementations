{
 "cells": [
  {
   "cell_type": "markdown",
   "metadata": {
    "graffitiCellId": "id_qfx0fir"
   },
   "source": [
    "# Graph Depth-First Search With Recursion"
   ]
  },
  {
   "cell_type": "markdown",
   "metadata": {
    "graffitiCellId": "id_dccwaz9"
   },
   "source": [
    "We've done depth-first search previously using an iterative approach (i.e., using a loop). In this notebook, we'll show how to implement a recursive soluton.\n",
    "\n",
    "The basic idea is to select a node and explore all the possible paths from that node, and to apply this recursively to each node we are exploring.\n",
    "\n",
    "You can see some helpful illustrations with various combinations here: https://www.cs.usfca.edu/~galles/visualization/DFS.html"
   ]
  },
  {
   "cell_type": "code",
   "metadata": {
    "graffitiCellId": "id_g8yswc8",
    "ExecuteTime": {
     "end_time": "2025-09-15T03:10:55.160736Z",
     "start_time": "2025-09-15T03:10:55.156880Z"
    }
   },
   "source": [
    "# For this exercise we will be using an Adjacency List representation to store the graph.\n",
    "\n",
    "# Class Node representation.\n",
    "class Node:\n",
    "    def __init__(self,val):\n",
    "        self.value = val\n",
    "        self.children = []\n",
    "        \n",
    "    def add_child(self,new_node):\n",
    "        self.children.append(new_node)\n",
    "    \n",
    "    def remove_child(self,del_node):\n",
    "        if del_node in self.children:\n",
    "            self.children.remove(del_node)\n",
    "\n",
    "class Graph():\n",
    "    def __init__(self,node_list):\n",
    "        self.nodes = node_list\n",
    "        \n",
    "    def add_edge(self,node1,node2):\n",
    "        if(node1 in self.nodes and node2 in self.nodes):\n",
    "            node1.add_child(node2)\n",
    "            node2.add_child(node1)\n",
    "            \n",
    "    def remove_edge(self,node1,node2):\n",
    "        if(node1 in self.nodes and node2 in self.nodes):\n",
    "            node1.remove_child(node2)\n",
    "            node2.remove_child(node1)"
   ],
   "outputs": [],
   "execution_count": 6
  },
  {
   "cell_type": "markdown",
   "metadata": {
    "graffitiCellId": "id_8yd5g3t"
   },
   "source": [
    "### Initializing Graph with an example"
   ]
  },
  {
   "cell_type": "markdown",
   "metadata": {
    "graffitiCellId": "id_gcu50h2"
   },
   "source": [
    "![title](assets/graphs.jpg)\n",
    "Consider the above graph structure. The following code initializes all the edges according to the above structure."
   ]
  },
  {
   "cell_type": "code",
   "metadata": {
    "graffitiCellId": "id_l75ft9n",
    "ExecuteTime": {
     "end_time": "2025-09-15T03:10:55.174326Z",
     "start_time": "2025-09-15T03:10:55.171127Z"
    }
   },
   "source": [
    "# Creating a graph as above.\n",
    "nodeG = Node('G')\n",
    "nodeR = Node('R')\n",
    "nodeA = Node('A')\n",
    "nodeP = Node('P')\n",
    "nodeH = Node('H')\n",
    "nodeS = Node('S')\n",
    "\n",
    "graph1 = Graph([nodeS,nodeH,nodeG,nodeP,nodeR,nodeA] ) \n",
    "\n",
    "graph1.add_edge(nodeG,nodeR)\n",
    "graph1.add_edge(nodeA,nodeR)\n",
    "graph1.add_edge(nodeA,nodeG)\n",
    "graph1.add_edge(nodeR,nodeP)\n",
    "graph1.add_edge(nodeH,nodeG)\n",
    "graph1.add_edge(nodeH,nodeP)\n",
    "graph1.add_edge(nodeS,nodeR)"
   ],
   "outputs": [],
   "execution_count": 7
  },
  {
   "cell_type": "code",
   "metadata": {
    "graffitiCellId": "id_j63zvsw",
    "ExecuteTime": {
     "end_time": "2025-09-15T03:10:55.184025Z",
     "start_time": "2025-09-15T03:10:55.180704Z"
    }
   },
   "source": [
    "for each in graph1.nodes:\n",
    "    print('parent node = ',each.value,end='\\nchildren\\n')\n",
    "    for each in each.children:\n",
    "        print(each.value,end=' ')\n",
    "    print('\\n')"
   ],
   "outputs": [
    {
     "name": "stdout",
     "output_type": "stream",
     "text": [
      "parent node =  S\n",
      "children\n",
      "R \n",
      "\n",
      "parent node =  H\n",
      "children\n",
      "G P \n",
      "\n",
      "parent node =  G\n",
      "children\n",
      "R A H \n",
      "\n",
      "parent node =  P\n",
      "children\n",
      "R H \n",
      "\n",
      "parent node =  R\n",
      "children\n",
      "G A P S \n",
      "\n",
      "parent node =  A\n",
      "children\n",
      "R G \n",
      "\n"
     ]
    }
   ],
   "execution_count": 8
  },
  {
   "cell_type": "markdown",
   "metadata": {
    "graffitiCellId": "id_bweutr7"
   },
   "source": [
    "### Sample input and output \n",
    "\n",
    "The output would vary based on the implementation of your algorithm, the order in which children are stored within the adjacency list."
   ]
  },
  {
   "cell_type": "markdown",
   "metadata": {
    "graffitiCellId": "id_mqzklsq"
   },
   "source": [
    "### DFS using recursion\n",
    "Now that we have our example graph initialized, we are ready to do the actual depth-first search. Here's what that looks like:"
   ]
  },
  {
   "cell_type": "code",
   "metadata": {
    "graffitiCellId": "id_pyqg7fg",
    "ExecuteTime": {
     "end_time": "2025-09-15T03:10:55.201447Z",
     "start_time": "2025-09-15T03:10:55.198029Z"
    }
   },
   "source": [
    "def dfs_recursion_start(start_node, search_value):\n",
    "    return dfs_helper(start_node, search_value, set())\n",
    "\n",
    "def dfs_helper(node, search_value, visited):\n",
    "    if node.value == search_value:\n",
    "        return node\n",
    "    visited.add(node)\n",
    "    for child in node.children:\n",
    "        if child not in visited:\n",
    "            result = dfs_helper(child, search_value, visited)\n",
    "            if result:\n",
    "                return result\n",
    "    return None"
   ],
   "outputs": [],
   "execution_count": 9
  },
  {
   "cell_type": "code",
   "metadata": {
    "graffitiCellId": "id_1hnatw7",
    "ExecuteTime": {
     "end_time": "2025-09-15T03:10:55.212494Z",
     "start_time": "2025-09-15T03:10:55.209994Z"
    }
   },
   "source": [
    "print(\"Test 1:\", dfs_recursion_start(nodeG, 'A') == nodeA)\n",
    "print(\"Test 2:\", dfs_recursion_start(nodeS, 'A') == nodeA)\n",
    "print(\"Test 3:\", dfs_recursion_start(nodeP, 'S') == nodeS)\n",
    "print(\"Test 4:\", dfs_recursion_start(nodeH, 'R') == nodeR)"
   ],
   "outputs": [
    {
     "name": "stdout",
     "output_type": "stream",
     "text": [
      "Test 1: True\n",
      "Test 2: True\n",
      "Test 3: True\n",
      "Test 4: True\n"
     ]
    }
   ],
   "execution_count": 10
  }
 ],
 "metadata": {
  "graffiti": {
   "firstAuthorId": "10694620118",
   "id": "id_hv4tail",
   "language": "EN"
  },
  "kernelspec": {
   "display_name": "Python 3 (ipykernel)",
   "language": "python",
   "name": "python3"
  },
  "language_info": {
   "codemirror_mode": {
    "name": "ipython",
    "version": 3
   },
   "file_extension": ".py",
   "mimetype": "text/x-python",
   "name": "python",
   "nbconvert_exporter": "python",
   "pygments_lexer": "ipython3",
   "version": "3.8.12"
  }
 },
 "nbformat": 4,
 "nbformat_minor": 2
}
