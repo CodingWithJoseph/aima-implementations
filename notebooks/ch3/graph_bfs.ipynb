{
 "cells": [
  {
   "cell_type": "markdown",
   "metadata": {
    "graffitiCellId": "id_19cls48"
   },
   "source": [
    "# Graph Breadth First Search\n",
    "In this exercise, you'll see how to do a breadth first search on a graph. To start, let's create a graph class in Python."
   ]
  },
  {
   "cell_type": "code",
   "metadata": {
    "graffitiCellId": "id_pmkelaq",
    "ExecuteTime": {
     "end_time": "2025-09-15T03:17:24.032954Z",
     "start_time": "2025-09-15T03:17:24.029476Z"
    }
   },
   "source": [
    "class GraphNode(object):\n",
    "    def __init__(self, val):\n",
    "        self.value = val\n",
    "        self.children = []\n",
    "        \n",
    "    def add_child(self,new_node):\n",
    "        self.children.append(new_node)\n",
    "    \n",
    "    def remove_child(self,del_node):\n",
    "        if del_node in self.children:\n",
    "            self.children.remove(del_node)\n",
    "\n",
    "class Graph(object):\n",
    "    def __init__(self,node_list):\n",
    "        self.nodes = node_list\n",
    "        \n",
    "    def add_edge(self,node1,node2):\n",
    "        if(node1 in self.nodes and node2 in self.nodes):\n",
    "            node1.add_child(node2)\n",
    "            node2.add_child(node1)\n",
    "            \n",
    "    def remove_edge(self,node1,node2):\n",
    "        if(node1 in self.nodes and node2 in self.nodes):\n",
    "            node1.remove_child(node2)\n",
    "            node2.remove_child(node1)"
   ],
   "outputs": [],
   "execution_count": 7
  },
  {
   "cell_type": "markdown",
   "metadata": {
    "graffitiCellId": "id_dk66y5p"
   },
   "source": [
    "Now let's create the graph."
   ]
  },
  {
   "cell_type": "code",
   "metadata": {
    "graffitiCellId": "id_4twme6x",
    "ExecuteTime": {
     "end_time": "2025-09-15T03:17:24.041236Z",
     "start_time": "2025-09-15T03:17:24.038227Z"
    }
   },
   "source": [
    "nodeG = GraphNode('G')\n",
    "nodeR = GraphNode('R')\n",
    "nodeA = GraphNode('A')\n",
    "nodeP = GraphNode('P')\n",
    "nodeH = GraphNode('H')\n",
    "nodeS = GraphNode('S')\n",
    "\n",
    "graph1 = Graph([nodeS,nodeH,nodeG,nodeP,nodeR,nodeA] ) \n",
    "graph1.add_edge(nodeG,nodeR)\n",
    "graph1.add_edge(nodeA,nodeR)\n",
    "graph1.add_edge(nodeA,nodeG)\n",
    "graph1.add_edge(nodeR,nodeP)\n",
    "graph1.add_edge(nodeH,nodeG)\n",
    "graph1.add_edge(nodeH,nodeP)\n",
    "graph1.add_edge(nodeS,nodeR)"
   ],
   "outputs": [],
   "execution_count": 8
  },
  {
   "cell_type": "markdown",
   "metadata": {
    "graffitiCellId": "id_iplss81"
   },
   "source": [
    "## Implement BFS\n",
    "Using what you know about BFS for trees and DFS for graphs, let's do BFS for graphs. Implement the `bfs_search` to return the `GraphNode` with the value `search_value` starting at the `root_node`."
   ]
  },
  {
   "cell_type": "code",
   "metadata": {
    "graffitiCellId": "id_1vk7aeh",
    "ExecuteTime": {
     "end_time": "2025-09-15T03:17:44.364066Z",
     "start_time": "2025-09-15T03:17:44.361068Z"
    }
   },
   "source": [
    "def bfs_search(root_node, search_value):\n",
    "    frontier = [root_node]\n",
    "    explored = []\n",
    "    while frontier:\n",
    "        state = frontier.pop(0)\n",
    "        explored.append(state)\n",
    "        if state.value == search_value:\n",
    "            return state\n",
    "        for child in state.children:\n",
    "            if child not in explored:\n",
    "                frontier.append(child)\n",
    "    return None"
   ],
   "outputs": [],
   "execution_count": 11
  },
  {
   "cell_type": "markdown",
   "metadata": {
    "graffitiCellId": "id_ej37296"
   },
   "source": [
    "### Tests"
   ]
  },
  {
   "cell_type": "code",
   "metadata": {
    "graffitiCellId": "id_ajsx9hw",
    "ExecuteTime": {
     "end_time": "2025-09-15T03:17:45.336553Z",
     "start_time": "2025-09-15T03:17:45.334052Z"
    }
   },
   "source": [
    "assert nodeA == bfs_search(nodeS, 'A')\n",
    "assert nodeS == bfs_search(nodeP, 'S')\n",
    "assert nodeR == bfs_search(nodeH, 'R')"
   ],
   "outputs": [],
   "execution_count": 12
  },
  {
   "cell_type": "code",
   "metadata": {
    "graffitiCellId": "id_jjrmoav",
    "ExecuteTime": {
     "end_time": "2025-09-15T03:17:46.640248Z",
     "start_time": "2025-09-15T03:17:46.636833Z"
    }
   },
   "source": [
    "print(nodeA == bfs_search(nodeS, 'A'))\n",
    "print(nodeS == bfs_search(nodeP, 'S'))\n",
    "print(nodeR == bfs_search(nodeH, 'R'))\n",
    "print(nodeS == bfs_search(nodeP, 'F'))"
   ],
   "outputs": [
    {
     "name": "stdout",
     "output_type": "stream",
     "text": [
      "True\n",
      "True\n",
      "True\n",
      "False\n"
     ]
    }
   ],
   "execution_count": 13
  },
  {
   "metadata": {},
   "cell_type": "code",
   "outputs": [],
   "execution_count": null,
   "source": ""
  }
 ],
 "metadata": {
  "graffiti": {
   "firstAuthorId": "dev",
   "id": "id_kq4h66c",
   "language": "EN"
  },
  "kernelspec": {
   "display_name": "Python 3 (ipykernel)",
   "language": "python",
   "name": "python3"
  },
  "language_info": {
   "codemirror_mode": {
    "name": "ipython",
    "version": 3
   },
   "file_extension": ".py",
   "mimetype": "text/x-python",
   "name": "python",
   "nbconvert_exporter": "python",
   "pygments_lexer": "ipython3",
   "version": "3.8.12"
  }
 },
 "nbformat": 4,
 "nbformat_minor": 2
}
